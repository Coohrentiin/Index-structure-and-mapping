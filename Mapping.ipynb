{
 "cells": [
  {
   "cell_type": "markdown",
   "metadata": {},
   "source": [
    "# Mapping"
   ]
  },
  {
   "cell_type": "code",
   "execution_count": 12,
   "metadata": {},
   "outputs": [
    {
     "data": {
      "text/plain": [
       "<module 'BWT' from 'c:\\\\Users\\\\csoub\\\\OneDrive\\\\Bureau\\\\3A\\\\Polytechnique\\\\INF589-Computational analysis of high-throughput sequencing data\\\\Index-structure-and-mapping\\\\BWT.py'>"
      ]
     },
     "execution_count": 12,
     "metadata": {},
     "output_type": "execute_result"
    }
   ],
   "source": [
    "import time\n",
    "import numpy as np\n",
    "import BWT\n",
    "from matplotlib import pyplot as plt\n",
    "from importlib import reload\n",
    "reload(BWT)"
   ]
  },
  {
   "cell_type": "code",
   "execution_count": 3,
   "metadata": {},
   "outputs": [
    {
     "name": "stdout",
     "output_type": "stream",
     "text": [
      "29903\n",
      "suffix array done\n",
      "BTW done\n",
      "Time cumsumtion: 2.5 sec\n"
     ]
    }
   ],
   "source": [
    "### Test with sars_cov_2.txt:\n",
    "seq = ''\n",
    "with open(\"data/sars_cov_2.txt\", 'r') as file:\n",
    "    for line in file:\n",
    "        seq += line.replace('\\n', '')\n",
    "print(len(seq))\n",
    "\n",
    "N=1000\n",
    "start=time.time()\n",
    "my_BWT = BWT.BWT(seq[:N] + '$')\n",
    "# print(\"Text sequence: \",my_BWT.text)\n",
    "my_BWT.compute_sufixe_array()\n",
    "print(\"suffix array done\")\n",
    "my_BWT.construct_bwt()\n",
    "print(\"BTW done\")\n",
    "stop=time.time()\n",
    "print(\"Time cumsumtion: {:.1f} sec\".format(stop-start))\n",
    "# print(my_BWT.L)"
   ]
  },
  {
   "cell_type": "code",
   "execution_count": 4,
   "metadata": {},
   "outputs": [
    {
     "name": "stdout",
     "output_type": "stream",
     "text": [
      "BWT search of ATTA :\n",
      "ATTA figures 4 times in the seq at positions : \n",
      "0 :\t ATTAAAGGTTTATACCTTCCCAGGTAACAAACCAACCAACTTTCGATCTCTTGTAGATCTGTTCTCTAAACGAACTTTAAAATCTGTGTGGCTGTCACTCGGCTGCATGCTTAGTGCACTCACGCAGTATAATTAATAACTAATTACTGTCGTTGACAGGACACGAGTAACTCGTCTATCTTCTGCAGGCTGCTTACGGTTTCGTCCGTGTTGCAGCCGATCATCAGCACATCTAGGTTTCGTCCGGGTGTGACCGAAAGGTAAGATGGAGAGCCTTGTCCCTGGTTTCAACGAGAAAACACACGTCCAACTCAGTTTGCCTGTTTTACAGGTTCGCGACGTGCTCGTACGTGGCTTTGGAGACTCCGTGGAGGAGGTCTTATCAGAGGCACGTCAACATCTTAAAGATGGCACTTGTGGCTTAGTAGAAGTTGAAAAAGGCGTTTTGCCTCAACTTGAACAGCCCTATGTGTTCATCAAACGTTCGGATGCTCGAACTGCACCTCATGGTCATGTTATGGTTGAGCTGGTAGCAGAACTCGAAGGCATTCAGTACGGTCGTAGTGGTGAGACACTTGGTGTCCTTGTCCCTCATGTGGGCGAAATACCAGTGGCTTACCGCAAGGTTCTTCTTCGTAAGAACGGTAATAAAGGAGCTGGTGGCCATAGTTACGGCGCCGATCTAAAGTCATTTGACTTAGGCGACGAGCTTGGCACTGATCCTTATGAAGATTTTCAAGAAAACTGGAACACTAAACATAGCAGTGGTGTTACCCGTGAACTCATGCGTGAGCTTAACGGAGGGGCATACACTCGCTATGTCGATAACAACTTCTGTGGCCCTGATGGCTACCCTCTTGAGTGCATTAAAGACCTTCTAGCACGTGCTGGTAAAGCTTCATGCACTTTGTCCGAACAACTGGACTTTATTGACACTAAGAGGGGTGTATACTGCTGCCGTGAACATGAGCATGAAATTGCTTGGTACACGGAACGTTCT$\n",
      "131 :\t ATTAATAACTAATTACTGTCGTTGACAGGACACGAGTAACTCGTCTATCTTCTGCAGGCTGCTTACGGTTTCGTCCGTGTTGCAGCCGATCATCAGCACATCTAGGTTTCGTCCGGGTGTGACCGAAAGGTAAGATGGAGAGCCTTGTCCCTGGTTTCAACGAGAAAACACACGTCCAACTCAGTTTGCCTGTTTTACAGGTTCGCGACGTGCTCGTACGTGGCTTTGGAGACTCCGTGGAGGAGGTCTTATCAGAGGCACGTCAACATCTTAAAGATGGCACTTGTGGCTTAGTAGAAGTTGAAAAAGGCGTTTTGCCTCAACTTGAACAGCCCTATGTGTTCATCAAACGTTCGGATGCTCGAACTGCACCTCATGGTCATGTTATGGTTGAGCTGGTAGCAGAACTCGAAGGCATTCAGTACGGTCGTAGTGGTGAGACACTTGGTGTCCTTGTCCCTCATGTGGGCGAAATACCAGTGGCTTACCGCAAGGTTCTTCTTCGTAAGAACGGTAATAAAGGAGCTGGTGGCCATAGTTACGGCGCCGATCTAAAGTCATTTGACTTAGGCGACGAGCTTGGCACTGATCCTTATGAAGATTTTCAAGAAAACTGGAACACTAAACATAGCAGTGGTGTTACCCGTGAACTCATGCGTGAGCTTAACGGAGGGGCATACACTCGCTATGTCGATAACAACTTCTGTGGCCCTGATGGCTACCCTCTTGAGTGCATTAAAGACCTTCTAGCACGTGCTGGTAAAGCTTCATGCACTTTGTCCGAACAACTGGACTTTATTGACACTAAGAGGGGTGTATACTGCTGCCGTGAACATGAGCATGAAATTGCTTGGTACACGGAACGTTCT$\n",
      "142 :\t ATTACTGTCGTTGACAGGACACGAGTAACTCGTCTATCTTCTGCAGGCTGCTTACGGTTTCGTCCGTGTTGCAGCCGATCATCAGCACATCTAGGTTTCGTCCGGGTGTGACCGAAAGGTAAGATGGAGAGCCTTGTCCCTGGTTTCAACGAGAAAACACACGTCCAACTCAGTTTGCCTGTTTTACAGGTTCGCGACGTGCTCGTACGTGGCTTTGGAGACTCCGTGGAGGAGGTCTTATCAGAGGCACGTCAACATCTTAAAGATGGCACTTGTGGCTTAGTAGAAGTTGAAAAAGGCGTTTTGCCTCAACTTGAACAGCCCTATGTGTTCATCAAACGTTCGGATGCTCGAACTGCACCTCATGGTCATGTTATGGTTGAGCTGGTAGCAGAACTCGAAGGCATTCAGTACGGTCGTAGTGGTGAGACACTTGGTGTCCTTGTCCCTCATGTGGGCGAAATACCAGTGGCTTACCGCAAGGTTCTTCTTCGTAAGAACGGTAATAAAGGAGCTGGTGGCCATAGTTACGGCGCCGATCTAAAGTCATTTGACTTAGGCGACGAGCTTGGCACTGATCCTTATGAAGATTTTCAAGAAAACTGGAACACTAAACATAGCAGTGGTGTTACCCGTGAACTCATGCGTGAGCTTAACGGAGGGGCATACACTCGCTATGTCGATAACAACTTCTGTGGCCCTGATGGCTACCCTCTTGAGTGCATTAAAGACCTTCTAGCACGTGCTGGTAAAGCTTCATGCACTTTGTCCGAACAACTGGACTTTATTGACACTAAGAGGGGTGTATACTGCTGCCGTGAACATGAGCATGAAATTGCTTGGTACACGGAACGTTCT$\n",
      "865 :\t ATTAAAGACCTTCTAGCACGTGCTGGTAAAGCTTCATGCACTTTGTCCGAACAACTGGACTTTATTGACACTAAGAGGGGTGTATACTGCTGCCGTGAACATGAGCATGAAATTGCTTGGTACACGGAACGTTCT$\n"
     ]
    }
   ],
   "source": [
    "x = \"ATTA\"\n",
    "print(f\"BWT search of {x} :\")\n",
    "occurences = my_BWT.bwt_search(x)\n",
    "print(f\"{x} figures {len(occurences) if occurences!= None else 0} times in the seq at positions : \")\n",
    "try:\n",
    "    for i in occurences: print(i[1],\":\t\",i[0])\n",
    "except:\n",
    "    pass"
   ]
  },
  {
   "cell_type": "markdown",
   "metadata": {},
   "source": [
    "## Genome Mapping"
   ]
  },
  {
   "cell_type": "code",
   "execution_count": 5,
   "metadata": {},
   "outputs": [],
   "source": [
    "read_length=100\n",
    "read_sigma=50\n",
    "fold_coverage=1\n",
    "full_sequence=my_BWT.text\n",
    "\n",
    "def create_reads(full_sequence,read_length=150,read_sigma=50,fold_coverage=5):\n",
    "\treads_list=[]\n",
    "\tfor i in range(fold_coverage):\n",
    "\t\tn=0\n",
    "\t\twhile n<len(full_sequence):\n",
    "\t\t\trand_int=int(np.random.normal(read_length,read_sigma))\n",
    "\t\t\tif n+rand_int<len(full_sequence):\n",
    "\t\t\t\tread=full_sequence[n:n+rand_int]\n",
    "\t\t\telse:\n",
    "\t\t\t\tread=full_sequence[n:]\n",
    "\t\t\tn+=rand_int\n",
    "\t\t\treads_list.append(read)\n",
    "\tnp.random.shuffle(reads_list)\n",
    "\t# reads_list=np.array(reads_list)\n",
    "\treturn reads_list\n",
    "\n",
    "reads=create_reads(full_sequence,read_length,read_sigma,fold_coverage)"
   ]
  },
  {
   "cell_type": "code",
   "execution_count": 6,
   "metadata": {},
   "outputs": [
    {
     "name": "stdout",
     "output_type": "stream",
     "text": [
      "#occurences:  1  position:  939\n",
      "#occurences:  1  position:  710\n",
      "#occurences:  1  position:  57\n",
      "#occurences:  1  position:  363\n",
      "#occurences:  1  position:  630\n",
      "#occurences:  1  position:  471\n",
      "#occurences:  1  position:  880\n",
      "#occurences:  1  position:  0\n",
      "#occurences:  1  position:  316\n",
      "#occurences:  1  position:  756\n"
     ]
    }
   ],
   "source": [
    "for read in reads:\n",
    "    occurences = my_BWT.bwt_search(read)\n",
    "    print(\"#occurences: \",len(occurences),\" position: \",str(occurences[0][1]))"
   ]
  },
  {
   "cell_type": "code",
   "execution_count": 38,
   "metadata": {},
   "outputs": [
    {
     "name": "stdout",
     "output_type": "stream",
     "text": [
      "Mapping time: 0.007993221282958984\n"
     ]
    },
    {
     "data": {
      "text/plain": [
       "False"
      ]
     },
     "execution_count": 38,
     "metadata": {},
     "output_type": "execute_result"
    }
   ],
   "source": [
    "def non_ambiguous_mapping(BWT,reads,len_sequence):\n",
    "\tassociation_table=[]\n",
    "\treconstructed_seq=len_sequence*['*']\n",
    "\tflag=False\n",
    "\tfor i,read in enumerate(reads):\n",
    "\t\toccurences = BWT.bwt_search(read)\n",
    "\t\tif len(occurences)>1:\n",
    "\t\t\tflag=True\n",
    "\t\t\t# print(\"Read with morethen 1 occurence\")\n",
    "\t\tindex=occurences[0][1]\n",
    "\t\treconstructed_seq[index:index+len(read)]=list(read)\n",
    "\treturn(\"\".join(reconstructed_seq),flag)\n",
    "  \n",
    "start=time.time()\n",
    "reconstructed_seq,ambiguity=non_ambiguous_mapping(my_BWT,reads,len(full_sequence))\n",
    "stop=time.time()\n",
    "print(\"Mapping time:\",stop-start)\n",
    "reconstructed_seq==full_sequence"
   ]
  },
  {
   "cell_type": "markdown",
   "metadata": {},
   "source": [
    "## Time performences - count table"
   ]
  },
  {
   "cell_type": "code",
   "execution_count": 15,
   "metadata": {},
   "outputs": [
    {
     "name": "stdout",
     "output_type": "stream",
     "text": [
      "1 / 10\n",
      "2 / 10\n",
      "3 / 10\n",
      "4 / 10\n",
      "5 / 10\n",
      "6 / 10\n",
      "7 / 10\n",
      "8 / 10\n",
      "9 / 10\n",
      "10 / 10\n"
     ]
    }
   ],
   "source": [
    "genome_size=np.linspace(500,2000,10)\n",
    "read_length=np.linspace(10,400,40)\n",
    "read_sigma=2\n",
    "fold_coverage=1\n",
    "\n",
    "time_cumsumption_BWT=np.zeros((3,len(genome_size)))\n",
    "time_cumsumption_mapping=np.zeros( (len(genome_size),len(read_length)))\n",
    "ambiguities=np.zeros( (len(genome_size),len(read_length)))\n",
    "reconstructions=np.zeros( (len(genome_size),len(read_length)))\n",
    "\n",
    "for i,N in enumerate(genome_size):\n",
    "    N=int(N)\n",
    "    start=time.time()\n",
    "    my_BWT = BWT.BWT(seq[:N] + '$')\n",
    "    stop_init=time.time()\n",
    "    my_BWT.compute_sufixe_array()\n",
    "    stop_suffix=time.time()\n",
    "    my_BWT.construct_bwt()\n",
    "    stop=time.time()\n",
    "    time_cumsumption_BWT[0,i]=stop_init-start\n",
    "    time_cumsumption_BWT[1,i]=stop_suffix-stop_init\n",
    "    time_cumsumption_BWT[2,i]=stop-stop_suffix\n",
    "    for j,K in enumerate(read_length):\n",
    "        K=int(K)\n",
    "        reads=create_reads(my_BWT.text,K,read_sigma,fold_coverage)\n",
    "        start=time.time()\n",
    "        reconstructed_seq,ambiguity=non_ambiguous_mapping(my_BWT,reads,len(my_BWT.text))\n",
    "        stop=time.time()\n",
    "        time_cumsumption_mapping[i,j]=stop-start\n",
    "        ambiguities[i,j]=ambiguity\n",
    "        reconstructions[i,j]=(reconstructed_seq==my_BWT.text)\n",
    "    print(str(i+1),\"/\",len(genome_size))\n",
    "        \n",
    "        "
   ]
  },
  {
   "cell_type": "code",
   "execution_count": 43,
   "metadata": {},
   "outputs": [
    {
     "data": {
      "text/plain": [
       "[]"
      ]
     },
     "execution_count": 43,
     "metadata": {},
     "output_type": "execute_result"
    },
    {
     "data": {
      "image/png": "[encoded data removed]",
      "text/plain": [
       "<Figure size 720x360 with 1 Axes>"
      ]
     },
     "metadata": {
      "needs_background": "light"
     },
     "output_type": "display_data"
    }
   ],
   "source": [
    "# plt.plot(genome_size,time_cumsumption_BWT[0,:],label='init')\n",
    "plt.figure(figsize=(10,5))\n",
    "plt.title(\"Time cumsumption dependig on genome size\")\n",
    "plt.plot(genome_size,time_cumsumption_BWT[1,:],label='Suffix array creation')\n",
    "plt.plot(genome_size,time_cumsumption_BWT[2,:],label='BWT computation')\n",
    "plt.xlabel(\"Genome size\")\n",
    "plt.ylabel(\"Time cumsumption\")\n",
    "plt.legend()\n",
    "plt.yscale(\"log\")\n",
    "plt.plot()"
   ]
  },
  {
   "cell_type": "code",
   "execution_count": 41,
   "metadata": {},
   "outputs": [
    {
     "data": {
      "text/plain": [
       "Text(0.5, 1.0, 'Time cumsumption in ms')"
      ]
     },
     "execution_count": 41,
     "metadata": {},
     "output_type": "execute_result"
    },
    {
     "data": {
      "text/plain": [
       "<Figure size 1440x360 with 0 Axes>"
      ]
     },
     "metadata": {},
     "output_type": "display_data"
    },
    {
     "data": {
      "image/png": "[encoded data removed]",
      "text/plain": [
       "<Figure size 1152x288 with 2 Axes>"
      ]
     },
     "metadata": {
      "needs_background": "light"
     },
     "output_type": "display_data"
    }
   ],
   "source": [
    "plt.figure(figsize=(20,5))\n",
    "plt.matshow(time_cumsumption_mapping*1000,cmap='hot')\n",
    "plt.xticks(np.arange(0,len(read_length)),labels=(int(s) for s in read_length))\n",
    "plt.xlabel(\"Read length\")\n",
    "plt.yticks(np.arange(0,len(genome_size)),labels=(int(s) for s in genome_size))\n",
    "plt.ylabel(\"Genom size\")\n",
    "plt.colorbar()\n",
    "plt.title(\"Time cumsumption in ms\")"
   ]
  }
 ],
 "metadata": {
  "interpreter": {
   "hash": "63fd5069d213b44bf678585dea6b12cceca9941eaf7f819626cde1f2670de90d"
  },
  "kernelspec": {
   "display_name": "Python 3.9.7 64-bit (system)",
   "language": "python",
   "name": "python3"
  },
  "language_info": {
   "codemirror_mode": {
    "name": "ipython",
    "version": 3
   },
   "file_extension": ".py",
   "mimetype": "text/x-python",
   "name": "python",
   "nbconvert_exporter": "python",
   "pygments_lexer": "ipython3",
   "version": "3.9.7"
  },
  "orig_nbformat": 4
 },
 "nbformat": 4,
 "nbformat_minor": 2
}
