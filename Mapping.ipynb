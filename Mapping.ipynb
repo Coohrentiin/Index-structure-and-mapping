{
 "cells": [
  {
   "cell_type": "markdown",
   "metadata": {},
   "source": [
    "# Mapping"
   ]
  },
  {
   "cell_type": "code",
   "execution_count": 63,
   "metadata": {},
   "outputs": [
    {
     "name": "stdout",
     "output_type": "stream",
     "text": [
      "Done\n"
     ]
    }
   ],
   "source": [
    "try:\n",
    "    import time\n",
    "    import numpy as np\n",
    "    import BWT\n",
    "    from matplotlib import pyplot as plt\n",
    "    from importlib import reload\n",
    "    from colorama import Fore\n",
    "    reload(BWT)\n",
    "    print(\"Done\")\n",
    "except:\n",
    "    print(\"You have to install all packages in requirements.txt\")"
   ]
  },
  {
   "cell_type": "code",
   "execution_count": 87,
   "metadata": {},
   "outputs": [
    {
     "name": "stdout",
     "output_type": "stream",
     "text": [
      "Longueur de la séquence : 29903, traitement de 2000 nucléotides.\n",
      "suffix array done\n",
      "BTW done\n",
      "Time cumsumtion: 0.0 sec\n"
     ]
    }
   ],
   "source": [
    "### Test with sars_cov_2.txt:\n",
    "seq = ''\n",
    "with open(\"data/sars_cov_2.txt\", 'r') as file:\n",
    "    for line in file:\n",
    "        seq += line.replace('\\n', '')\n",
    "N=2000\n",
    "print(f\"Longueur de la séquence : {len(seq)}, traitement de {N} nucléotides.\")\n",
    "\n",
    "start=time.time()\n",
    "my_BWT = BWT.BWT(seq[30:40] + '$')\n",
    "# print(\"Text sequence: \",my_BWT.text)\n",
    "my_BWT.compute_sufixe_array()\n",
    "print(\"suffix array done\")\n",
    "my_BWT.construct_bwt()\n",
    "print(\"BTW done\")\n",
    "stop=time.time()\n",
    "print(\"Time cumsumtion: {:.1f} sec\".format(stop-start))\n",
    "# print(my_BWT.L)"
   ]
  },
  {
   "cell_type": "code",
   "execution_count": 88,
   "metadata": {},
   "outputs": [
    {
     "name": "stdout",
     "output_type": "stream",
     "text": [
      "BWT search of ATTA :\n",
      "ATTA figures 5 times in the seq at positions : 0 3 4 7 8 \n",
      "\n",
      "\u001b[37m\u001b[31mACCA\u001b[37m\u001b[31mAACC\u001b[37m\u001b[31mACCA\u001b[37m\u001b[31mAAC$\u001b[37m\u001b[31mAC$\u001b[37m\n"
     ]
    }
   ],
   "source": [
    "x = \"ATTA\"\n",
    "print(f\"BWT search of {x} :\")\n",
    "occurences = my_BWT.bwt_search(x)\n",
    "print(f\"{x} figures {len(occurences) if occurences!= None else 0} times in the seq at positions : \", end='')\n",
    "try:\n",
    "    for o in occurences: print(o[1], end=' ')\n",
    "    print('\\n')\n",
    "    start, end = 0, occurences[0][1]\n",
    "    for i in range(len(occurences)):\n",
    "        print(Fore.WHITE + my_BWT.text[start:end], end='')\n",
    "        print(Fore.RED + my_BWT.text[end:end+len(x)], end='')\n",
    "        start = end+len(x)\n",
    "        try:\n",
    "            end = occurences[i+1][1]\n",
    "        except:\n",
    "            break\n",
    "    print(Fore.WHITE + my_BWT.text[start:])\n",
    "except:\n",
    "    pass"
   ]
  },
  {
   "cell_type": "markdown",
   "metadata": {},
   "source": [
    "## Cut the sequence for mapping"
   ]
  },
  {
   "cell_type": "code",
   "execution_count": 6,
   "metadata": {},
   "outputs": [],
   "source": [
    "def Sequence_Cut(seq: str, K: int, overlap = 10):\n",
    "    \"\"\"Cut the sequence into seqences of length K\n",
    "\n",
    "    Args:\n",
    "        seq (str): sequence\n",
    "        K (int): length of the cuts\n",
    "        overlap (int, optional): lenght of the overlaps. Defaults to 10.\n",
    "\n",
    "    Raises:\n",
    "        Exception: K<overlap\n",
    "\n",
    "    Returns:\n",
    "        list[(index, seq)] : cuts\n",
    "    \"\"\"\n",
    "    if K<overlap:\n",
    "        raise Exception(\"K must be higher than overlap\")\n",
    "    cuts = []\n",
    "    n=0\n",
    "    while n+K<len(seq):\n",
    "        cuts.append((n, seq[n:n+K]))\n",
    "        n+=K-overlap\n",
    "    cuts.append((n, seq[n:]))\n",
    "    return cuts\n",
    "    "
   ]
  },
  {
   "cell_type": "code",
   "execution_count": 33,
   "metadata": {},
   "outputs": [
    {
     "data": {
      "text/plain": [
       "[(0, 'abcdefghij'), (8, 'ijklmnopqr'), (16, 'qrstuvwxyz')]"
      ]
     },
     "execution_count": 33,
     "metadata": {},
     "output_type": "execute_result"
    }
   ],
   "source": [
    "Sequence_Cut('abcdefghijklmnopqrstuvwxyz', 10, 2)"
   ]
  },
  {
   "cell_type": "code",
   "execution_count": 81,
   "metadata": {},
   "outputs": [
    {
     "name": "stdout",
     "output_type": "stream",
     "text": [
      "Longueur de la séquence : 200, traitement de 200 nucléotides avec des cuts de longueur 10.\n",
      "Time cumsumtion: 0.0 sec\n"
     ]
    }
   ],
   "source": [
    "### Test with sars_cov_2.txt:\n",
    "seq = ''\n",
    "with open(\"data/sars_cov_2.txt\", 'r') as file:\n",
    "    for line in file:\n",
    "        seq += line.replace('\\n', '')\n",
    "N=200\n",
    "seq = seq[:N]\n",
    "K = 10\n",
    "print(f\"Longueur de la séquence : {len(seq)}, traitement de {N} nucléotides avec des cuts de longueur {K}.\")\n",
    "\n",
    "start=time.time()\n",
    "cuts = Sequence_Cut(seq, K, overlap=0)\n",
    "my_BWT_list = []\n",
    "for c in cuts:\n",
    "    my_BWT_list.append((c[0],BWT.BWT(c[1] + '$')))\n",
    "    # print(\"Text sequence: \",my_BWT.text)\n",
    "    my_BWT_list[-1][1].compute_sufixe_array()\n",
    "    my_BWT_list[-1][1].construct_bwt()\n",
    "stop=time.time()\n",
    "print(\"Time cumsumtion: {:.1f} sec\".format(stop-start))\n",
    "# print(my_BWT.L)"
   ]
  },
  {
   "cell_type": "code",
   "execution_count": 82,
   "metadata": {},
   "outputs": [
    {
     "name": "stdout",
     "output_type": "stream",
     "text": [
      "BWT search of ATTA :\n",
      "ATTA figures 16 times in the seq at positions : 0 30 33 34 37 38 92 94 98 131 142 152 153 180 181 183 \n",
      "\n",
      "\u001b[37m\u001b[31mATTA\u001b[37mAAGGTTTATACCTTCCCAGGTAACAA\u001b[31mACCA\u001b[37m\u001b[31mAACC\u001b[37m\u001b[31mACCA\u001b[37m\u001b[31mAACT\u001b[37m\u001b[31mACTT\u001b[37mTCGATCTCTTGTAGATCTGTTCTCTAAACGAACTTTAAAATCTGTGTGGC\u001b[31mTGTC\u001b[37m\u001b[31mTCAC\u001b[37m\u001b[31mTCGG\u001b[37mCTGCATGCTTAGTGCACTCACGCAGTATA\u001b[31mATTA\u001b[37mATAACTA\u001b[31mATTA\u001b[37mCTGTCG\u001b[31mTTGA\u001b[37m\u001b[31mTGAC\u001b[37mAGGACACGAGTAACTCGTCTATC\u001b[31mTTCT\u001b[37m\u001b[31mTCTG\u001b[37mCAGGCTGCTTACGGT\n",
      "200\n"
     ]
    }
   ],
   "source": [
    "x = \"ATTA\"\n",
    "print(f\"BWT search of {x} :\")\n",
    "occurences = []\n",
    "for bwt in my_BWT_list:\n",
    "    tmp = bwt[1].bwt_search(x)\n",
    "    occurences += [o[1] + bwt[0] for o in tmp]\n",
    "#remove duplicates:\n",
    "occurences = list(dict.fromkeys(occurences))\n",
    "print(f\"{x} figures {len(occurences) if occurences!= None else 0} times in the seq at positions : \", end='')\n",
    "try:\n",
    "    for o in occurences: print(o, end=' ')\n",
    "    print('\\n')\n",
    "    start, end = 0, occurences[0]\n",
    "    if len(occurences)==1:\n",
    "        print(Fore.WHITE + seq[start:end], end='')\n",
    "        print(Fore.RED + seq[end:end+len(x)], end='')\n",
    "        start = end+len(x)\n",
    "    else:\n",
    "        for i in range(1,len(occurences)):\n",
    "            print(Fore.WHITE + seq[start:end], end='')\n",
    "            print(Fore.RED + seq[end:end+len(x)], end='')\n",
    "            start = end+len(x)\n",
    "            end = occurences[i]\n",
    "    print(Fore.WHITE + seq[start:])\n",
    "    print(len(seq))\n",
    "except:\n",
    "    print(\"yoyo\")"
   ]
  },
  {
   "cell_type": "markdown",
   "metadata": {},
   "source": [
    "## Genome Mapping"
   ]
  },
  {
   "cell_type": "code",
   "execution_count": 27,
   "metadata": {},
   "outputs": [],
   "source": [
    "read_length=100\n",
    "read_sigma=50\n",
    "fold_coverage=1\n",
    "full_sequence=my_BWT.text\n",
    "\n",
    "def create_reads(full_sequence,read_length=150,read_sigma=50,fold_coverage=5):\n",
    "\t\"\"\"Create a list of shuffled samples of the sequence\n",
    "\n",
    "\tArgs:\n",
    "\t\tfull_sequence (str): full sequence\n",
    "\t\tread_length (int, optional): mean sample length. Defaults to 150.\n",
    "\t\tread_sigma (int, optional): sigma. Defaults to 50.\n",
    "\t\tfold_coverage (int, optional): number of times we cover the sequence. Defaults to 5.\n",
    "\n",
    "\tReturns:\n",
    "\t\tlist[str]: samples\n",
    "\t\"\"\"\n",
    "\treads_list=[]\n",
    "\tfor i in range(fold_coverage):\n",
    "\t\tn=0\n",
    "\t\twhile n<len(full_sequence):\n",
    "\t\t\trand_int=int(np.random.normal(read_length,read_sigma))\n",
    "\t\t\tif n+rand_int<len(full_sequence):\n",
    "\t\t\t\tread=full_sequence[n:n+rand_int]\n",
    "\t\t\telse:\n",
    "\t\t\t\tread=full_sequence[n:]\n",
    "\t\t\tn+=rand_int\n",
    "\t\t\treads_list.append(read)\n",
    "\tnp.random.shuffle(reads_list)\n",
    "\t# reads_list=np.array(reads_list)\n",
    "\treturn reads_list\n",
    "\n",
    "reads=create_reads(full_sequence,read_length,read_sigma,fold_coverage)"
   ]
  },
  {
   "cell_type": "code",
   "execution_count": 6,
   "metadata": {},
   "outputs": [
    {
     "name": "stdout",
     "output_type": "stream",
     "text": [
      "#occurences:  1  position:  939\n",
      "#occurences:  1  position:  710\n",
      "#occurences:  1  position:  57\n",
      "#occurences:  1  position:  363\n",
      "#occurences:  1  position:  630\n",
      "#occurences:  1  position:  471\n",
      "#occurences:  1  position:  880\n",
      "#occurences:  1  position:  0\n",
      "#occurences:  1  position:  316\n",
      "#occurences:  1  position:  756\n"
     ]
    }
   ],
   "source": [
    "for read in reads:\n",
    "    occurences = my_BWT.bwt_search(read)\n",
    "    print(\"#occurences: \",len(occurences),\" position: \",str(occurences[0][1]))"
   ]
  },
  {
   "cell_type": "code",
   "execution_count": 29,
   "metadata": {},
   "outputs": [
    {
     "ename": "IndexError",
     "evalue": "string index out of range",
     "output_type": "error",
     "traceback": [
      "\u001b[1;31m---------------------------------------------------------------------------\u001b[0m",
      "\u001b[1;31mIndexError\u001b[0m                                Traceback (most recent call last)",
      "\u001b[1;32md:\\axeld\\Documents\\Codes\\Index-structure-and-mapping\\Mapping.ipynb Cell 8'\u001b[0m in \u001b[0;36m<cell line: 15>\u001b[1;34m()\u001b[0m\n\u001b[0;32m     <a href='vscode-notebook-cell:/d%3A/axeld/Documents/Codes/Index-structure-and-mapping/Mapping.ipynb#ch0000007?line=11'>12</a>\u001b[0m \t\u001b[39mreturn\u001b[39;00m(\u001b[39m\"\u001b[39m\u001b[39m\"\u001b[39m\u001b[39m.\u001b[39mjoin(reconstructed_seq),flag)\n\u001b[0;32m     <a href='vscode-notebook-cell:/d%3A/axeld/Documents/Codes/Index-structure-and-mapping/Mapping.ipynb#ch0000007?line=13'>14</a>\u001b[0m start\u001b[39m=\u001b[39mtime\u001b[39m.\u001b[39mtime()\n\u001b[1;32m---> <a href='vscode-notebook-cell:/d%3A/axeld/Documents/Codes/Index-structure-and-mapping/Mapping.ipynb#ch0000007?line=14'>15</a>\u001b[0m reconstructed_seq,ambiguity\u001b[39m=\u001b[39mnon_ambiguous_mapping(my_BWT,reads,\u001b[39mlen\u001b[39;49m(full_sequence))\n\u001b[0;32m     <a href='vscode-notebook-cell:/d%3A/axeld/Documents/Codes/Index-structure-and-mapping/Mapping.ipynb#ch0000007?line=15'>16</a>\u001b[0m stop\u001b[39m=\u001b[39mtime\u001b[39m.\u001b[39mtime()\n\u001b[0;32m     <a href='vscode-notebook-cell:/d%3A/axeld/Documents/Codes/Index-structure-and-mapping/Mapping.ipynb#ch0000007?line=16'>17</a>\u001b[0m \u001b[39mprint\u001b[39m(\u001b[39m\"\u001b[39m\u001b[39mMapping time:\u001b[39m\u001b[39m\"\u001b[39m,stop\u001b[39m-\u001b[39mstart)\n",
      "\u001b[1;32md:\\axeld\\Documents\\Codes\\Index-structure-and-mapping\\Mapping.ipynb Cell 8'\u001b[0m in \u001b[0;36mnon_ambiguous_mapping\u001b[1;34m(BWT, reads, len_sequence)\u001b[0m\n\u001b[0;32m      <a href='vscode-notebook-cell:/d%3A/axeld/Documents/Codes/Index-structure-and-mapping/Mapping.ipynb#ch0000007?line=3'>4</a>\u001b[0m flag\u001b[39m=\u001b[39m\u001b[39mFalse\u001b[39;00m\n\u001b[0;32m      <a href='vscode-notebook-cell:/d%3A/axeld/Documents/Codes/Index-structure-and-mapping/Mapping.ipynb#ch0000007?line=4'>5</a>\u001b[0m \u001b[39mfor\u001b[39;00m i,read \u001b[39min\u001b[39;00m \u001b[39menumerate\u001b[39m(reads):\n\u001b[1;32m----> <a href='vscode-notebook-cell:/d%3A/axeld/Documents/Codes/Index-structure-and-mapping/Mapping.ipynb#ch0000007?line=5'>6</a>\u001b[0m \toccurences \u001b[39m=\u001b[39m BWT\u001b[39m.\u001b[39;49mbwt_search(read)\n\u001b[0;32m      <a href='vscode-notebook-cell:/d%3A/axeld/Documents/Codes/Index-structure-and-mapping/Mapping.ipynb#ch0000007?line=6'>7</a>\u001b[0m \t\u001b[39mif\u001b[39;00m \u001b[39mlen\u001b[39m(occurences)\u001b[39m>\u001b[39m\u001b[39m1\u001b[39m:\n\u001b[0;32m      <a href='vscode-notebook-cell:/d%3A/axeld/Documents/Codes/Index-structure-and-mapping/Mapping.ipynb#ch0000007?line=7'>8</a>\u001b[0m \t\tflag\u001b[39m=\u001b[39m\u001b[39mTrue\u001b[39;00m\n",
      "File \u001b[1;32md:\\axeld\\Documents\\Codes\\Index-structure-and-mapping\\BWT.py:161\u001b[0m, in \u001b[0;36mBWT.bwt_search\u001b[1;34m(self, x)\u001b[0m\n\u001b[0;32m    <a href='file:///d%3A/axeld/Documents/Codes/Index-structure-and-mapping/BWT.py?line=157'>158</a>\u001b[0m             \u001b[39mreturn\u001b[39;00m \u001b[39mself\u001b[39m\u001b[39m.\u001b[39mR[j][\u001b[39m1\u001b[39m]\n\u001b[0;32m    <a href='file:///d%3A/axeld/Documents/Codes/Index-structure-and-mapping/BWT.py?line=158'>159</a>\u001b[0m     \u001b[39mreturn\u001b[39;00m end\n\u001b[1;32m--> <a href='file:///d%3A/axeld/Documents/Codes/Index-structure-and-mapping/BWT.py?line=160'>161</a>\u001b[0m n_start \u001b[39m=\u001b[39m narrow_start(\u001b[39m0\u001b[39m, x[\u001b[39m-\u001b[39;49m\u001b[39m1\u001b[39;49m], s\u001b[39m=\u001b[39mstart, e\u001b[39m=\u001b[39mend)\n\u001b[0;32m    <a href='file:///d%3A/axeld/Documents/Codes/Index-structure-and-mapping/BWT.py?line=161'>162</a>\u001b[0m n_end   \u001b[39m=\u001b[39m narrow_end(\u001b[39m0\u001b[39m, x[\u001b[39m-\u001b[39m\u001b[39m1\u001b[39m], s\u001b[39m=\u001b[39mstart, e\u001b[39m=\u001b[39mend)\n\u001b[0;32m    <a href='file:///d%3A/axeld/Documents/Codes/Index-structure-and-mapping/BWT.py?line=162'>163</a>\u001b[0m \u001b[39mfor\u001b[39;00m i,c \u001b[39min\u001b[39;00m \u001b[39menumerate\u001b[39m(x[:\u001b[39m-\u001b[39m\u001b[39m1\u001b[39m][::\u001b[39m-\u001b[39m\u001b[39m1\u001b[39m]):\n",
      "\u001b[1;31mIndexError\u001b[0m: string index out of range"
     ]
    }
   ],
   "source": [
    "def non_ambiguous_mapping(BWT,reads,len_sequence):\n",
    "\tassociation_table=[]\n",
    "\treconstructed_seq=len_sequence*['*']\n",
    "\tflag=False\n",
    "\tfor i,read in enumerate(reads):\n",
    "\t\toccurences = BWT.bwt_search(read)\n",
    "\t\tif len(occurences)>1:\n",
    "\t\t\tflag=True\n",
    "\t\t\t# print(\"Read with morethen 1 occurence\")\n",
    "\t\tindex=occurences[0][1]\n",
    "\t\treconstructed_seq[index:index+len(read)]=list(read)\n",
    "\treturn(\"\".join(reconstructed_seq),flag)\n",
    "  \n",
    "start=time.time()\n",
    "reconstructed_seq,ambiguity=non_ambiguous_mapping(my_BWT,reads,len(full_sequence))\n",
    "stop=time.time()\n",
    "print(\"Mapping time:\",stop-start)\n",
    "reconstructed_seq==full_sequence"
   ]
  },
  {
   "cell_type": "markdown",
   "metadata": {},
   "source": [
    "## Time performences - count table"
   ]
  },
  {
   "cell_type": "code",
   "execution_count": 15,
   "metadata": {},
   "outputs": [
    {
     "name": "stdout",
     "output_type": "stream",
     "text": [
      "1 / 10\n",
      "2 / 10\n",
      "3 / 10\n",
      "4 / 10\n",
      "5 / 10\n",
      "6 / 10\n",
      "7 / 10\n",
      "8 / 10\n",
      "9 / 10\n",
      "10 / 10\n"
     ]
    }
   ],
   "source": [
    "genome_size=np.linspace(500,2000,10)\n",
    "read_length=np.linspace(10,400,40)\n",
    "read_sigma=2\n",
    "fold_coverage=1\n",
    "\n",
    "time_cumsumption_BWT=np.zeros((3,len(genome_size)))\n",
    "time_cumsumption_mapping=np.zeros( (len(genome_size),len(read_length)))\n",
    "ambiguities=np.zeros( (len(genome_size),len(read_length)))\n",
    "reconstructions=np.zeros( (len(genome_size),len(read_length)))\n",
    "\n",
    "for i,N in enumerate(genome_size):\n",
    "    N=int(N)\n",
    "    start=time.time()\n",
    "    my_BWT = BWT.BWT(seq[:N] + '$')\n",
    "    stop_init=time.time()\n",
    "    my_BWT.compute_sufixe_array()\n",
    "    stop_suffix=time.time()\n",
    "    my_BWT.construct_bwt()\n",
    "    stop=time.time()\n",
    "    time_cumsumption_BWT[0,i]=stop_init-start\n",
    "    time_cumsumption_BWT[1,i]=stop_suffix-stop_init\n",
    "    time_cumsumption_BWT[2,i]=stop-stop_suffix\n",
    "    for j,K in enumerate(read_length):\n",
    "        K=int(K)\n",
    "        reads=create_reads(my_BWT.text,K,read_sigma,fold_coverage)\n",
    "        start=time.time()\n",
    "        reconstructed_seq,ambiguity=non_ambiguous_mapping(my_BWT,reads,len(my_BWT.text))\n",
    "        stop=time.time()\n",
    "        time_cumsumption_mapping[i,j]=stop-start\n",
    "        ambiguities[i,j]=ambiguity\n",
    "        reconstructions[i,j]=(reconstructed_seq==my_BWT.text)\n",
    "    print(str(i+1),\"/\",len(genome_size))\n",
    "        \n",
    "        "
   ]
  },
  {
   "cell_type": "code",
   "execution_count": 19,
   "metadata": {},
   "outputs": [
    {
     "data": {
      "text/plain": [
       "[]"
      ]
     },
     "execution_count": 19,
     "metadata": {},
     "output_type": "execute_result"
    },
    {
     "data": {
      "image/png": "[encoded data removed]",
      "text/plain": [
       "<Figure size 432x288 with 1 Axes>"
      ]
     },
     "metadata": {
      "needs_background": "light"
     },
     "output_type": "display_data"
    }
   ],
   "source": [
    "# plt.plot(genome_size,time_cumsumption_BWT[0,:],label='init')\n",
    "plt.title(\"Time cumsumption dependig on genome size\")\n",
    "plt.plot(genome_size,time_cumsumption_BWT[1,:],label='suffix array')\n",
    "plt.plot(genome_size,time_cumsumption_BWT[2,:],label='BWT')\n",
    "plt.xlabel(\"Genome size\")\n",
    "plt.ylabel(\"Time cumsumption\")\n",
    "plt.legend()\n",
    "plt.yscale(\"log\")\n",
    "plt.plot()"
   ]
  },
  {
   "cell_type": "code",
   "execution_count": 41,
   "metadata": {},
   "outputs": [
    {
     "data": {
      "text/plain": [
       "Text(0.5, 1.0, 'Time cumsumption in ms')"
      ]
     },
     "execution_count": 41,
     "metadata": {},
     "output_type": "execute_result"
    },
    {
     "data": {
      "text/plain": [
       "<Figure size 1440x360 with 0 Axes>"
      ]
     },
     "metadata": {},
     "output_type": "display_data"
    },
    {
     "data": {
      "image/png": "[encoded data removed]",
      "text/plain": [
       "<Figure size 1152x288 with 2 Axes>"
      ]
     },
     "metadata": {
      "needs_background": "light"
     },
     "output_type": "display_data"
    }
   ],
   "source": [
    "plt.figure(figsize=(20,5))\n",
    "plt.matshow(time_cumsumption_mapping*1000,cmap='hot')\n",
    "plt.xticks(np.arange(0,len(read_length)),labels=(int(s) for s in read_length))\n",
    "plt.xlabel(\"Read length\")\n",
    "plt.yticks(np.arange(0,len(genome_size)),labels=(int(s) for s in genome_size))\n",
    "plt.ylabel(\"Genom size\")\n",
    "plt.colorbar()\n",
    "plt.title(\"Time cumsumption in ms\")"
   ]
  }
 ],
 "metadata": {
  "interpreter": {
   "hash": "63fd5069d213b44bf678585dea6b12cceca9941eaf7f819626cde1f2670de90d"
  },
  "kernelspec": {
   "display_name": "Python 3.9.7 64-bit (system)",
   "language": "python",
   "name": "python3"
  },
  "language_info": {
   "codemirror_mode": {
    "name": "ipython",
    "version": 3
   },
   "file_extension": ".py",
   "mimetype": "text/x-python",
   "name": "python",
   "nbconvert_exporter": "python",
   "pygments_lexer": "ipython3",
   "version": "3.9.10"
  },
  "orig_nbformat": 4
 },
 "nbformat": 4,
 "nbformat_minor": 2
}
