{
 "cells": [
  {
   "cell_type": "markdown",
   "metadata": {},
   "source": [
    "# ShotGun sequencing\n",
    "## Extracting sequence\n",
    "\n",
    "We work with the DNA sequence of SARS-COV2"
   ]
  },
  {
   "cell_type": "code",
   "execution_count": 1,
   "metadata": {},
   "outputs": [
    {
     "name": "stdout",
     "output_type": "stream",
     "text": [
      "#Nucleotide: 29903\n",
      "ATTAAAGGTTTATACCTTCCCAGGTAACAAACCAACCAACTTTCGATCTCTTGTAGATCTGTTCTCTAAACGAACTTTAAAATCTGTGTGGCTGTCACTCGGCTGCATGCTTAGTGCACTCACGCAGTATAATTAATAACTAATTACTGTCGTTGACAGGACACGAGTAACTCGTCTATCTTCTGCAGGCTGCTTACGGTTTCGTCCGTGTTGCAGCCGATCATCAGCACATCTAGGTTTCGTCCGGGTGTGACCGAAAGGTAAGATGGAGAGCCTTGTCCCTGGTTTCAACGAGAAAACACACGTCCAACTCAGTTTGCCTGTTTTACAGGTTCGCGACGTGCTCGTACGTGGCTTTGGAGACTCCGTGGAGGAGGTCTTATCAGAGGCACGTCAACAT\n"
     ]
    }
   ],
   "source": [
    "import numpy as np\n",
    "path_DNA=\".\\data\\sars_cov_2.txt\"\n",
    "with open(path_DNA) as f:\n",
    "    full_sequence = f.read()\n",
    "f.close()\n",
    "full_sequence=full_sequence.replace('\\n','')\n",
    "print(\"#Nucleotide:\",len(full_sequence))\n",
    "print(full_sequence[:400])\n",
    "full_sequence=full_sequence[:1000]"
   ]
  },
  {
   "cell_type": "markdown",
   "metadata": {},
   "source": [
    "## Reads creation\n",
    "We create a function able to split a sequence into short reads of a length following a normal law $N(read\\_length,read\\_sigma^2)$"
   ]
  },
  {
   "cell_type": "code",
   "execution_count": 2,
   "metadata": {},
   "outputs": [],
   "source": [
    "read_length=150\n",
    "read_sigma=50\n",
    "fold_coverage=5\n",
    "\n",
    "def create_reads(read_length=150,read_sigma=50,fold_coverage=5):\n",
    "\treads_list=[]\n",
    "\tfor i in range(fold_coverage):\n",
    "\t\tn=0\n",
    "\t\twhile n<len(full_sequence):\n",
    "\t\t\trand_int=int(np.random.normal(read_length,read_sigma))\n",
    "\t\t\tif n+rand_int<len(full_sequence):\n",
    "\t\t\t\tread=full_sequence[n:n+rand_int]\n",
    "\t\t\telse:\n",
    "\t\t\t\tread=full_sequence[n:]\n",
    "\t\t\tn+=rand_int\n",
    "\t\t\treads_list.append(read)\n",
    "\tnp.random.shuffle(reads_list)\n",
    "\t# reads_list=np.array(reads_list)\n",
    "\treturn reads_list"
   ]
  },
  {
   "cell_type": "code",
   "execution_count": 3,
   "metadata": {},
   "outputs": [],
   "source": [
    "reads=create_reads(read_length,read_sigma,fold_coverage)"
   ]
  },
  {
   "cell_type": "markdown",
   "metadata": {},
   "source": [
    "## Reads assembly\n",
    "\n",
    "To simulate shot gun sequencing an reassemble the sequence we create the function *overlap*:\n",
    ">This function take two reads read_A and read_B, and check if these two sequence overlap. If they do the function return the combined sequence of the two read maximizing the overlap between the two reads. If the two reads do not overlap the function retrun 0.\n",
    "\n",
    "*combine_with_coverage*:\n",
    ">This function compare a *read* with all the reads of an array *reads* via *overlap* function. Then the finction return the best combined sequence in term of overlapping."
   ]
  },
  {
   "cell_type": "code",
   "execution_count": 4,
   "metadata": {},
   "outputs": [
    {
     "data": {
      "text/plain": [
       "('CCCBABAAAAAAAAAAAAAAAAAA', 4)"
      ]
     },
     "execution_count": 4,
     "metadata": {},
     "output_type": "execute_result"
    }
   ],
   "source": [
    "def overlap(read_A,read_B):\n",
    "\tmax_coverage=0\n",
    "\tNA=len(read_A)\n",
    "\tNB=len(read_B)\n",
    "\tif NA<NB:\n",
    "\t\tshort_read=read_A\n",
    "\t\tN_short=NA\n",
    "\t\tlong_read=read_B\n",
    "\t\tN_long=NB\n",
    "\telse:\n",
    "\t\tshort_read=read_B\n",
    "\t\tN_short=NB\n",
    "\t\tlong_read=read_A\n",
    "\t\tN_long=NA\n",
    "\tcov=0\n",
    "\ti_cov=0\n",
    "\t# print(N_short,N_long)\n",
    "\tfor i in range(1,N_short+N_long):\n",
    "\t\tif i<N_short:\n",
    "\t\t\tsegment_1=short_read[N_short-i:N_short]\n",
    "\t\t\tsegment_2=long_read[0:i]\n",
    "\t\t\tif segment_1==segment_2:\n",
    "\t\t\t\tif cov<i:\n",
    "\t\t\t\t\tcov=i\n",
    "\t\t\t\t\ti_cov=i\n",
    "\t\telif i>N_long:\n",
    "\t\t\tsegment_1=short_read[0:N_short+N_long-i]\n",
    "\t\t\tsegment_2=long_read[i-N_short:]\n",
    "\t\t\tif segment_1==segment_2:\n",
    "\t\t\t\tif cov<N_short+N_long-i:\n",
    "\t\t\t\t\tcov=N_short+N_long-i\n",
    "\t\t\t\t\ti_cov=i\n",
    "\t\telse:\n",
    "\t\t\tsegment_1=short_read\n",
    "\t\t\tsegment_2=long_read[i-N_short:i]\n",
    "\t\t\tif segment_1==segment_2:\n",
    "\t\t\t\tif cov<N_short:\n",
    "\t\t\t\t\tcov=N_short\n",
    "\t\t\t\t\ti_cov=i\n",
    "\t\t\t\t\treturn(long_read,cov)\n",
    "\t# \tprint(i,segment_1,segment_2)\n",
    "\t# print(i_cov)\n",
    "\tif i_cov<N_short:\n",
    "\t\treturn(short_read+long_read[i_cov:],cov)\n",
    "\telif i_cov>N_long:\n",
    "\t\treturn(long_read+short_read[N_short+N_long-i_cov:],cov)\n",
    "\telse:\n",
    "\t\treturn(0,cov)\n",
    "\n",
    "# read_A='AAAAAAAAAAAAAAAAABABA'\n",
    "# read_B='BABABB'\n",
    "read_A='BABAAAAAAAAAAAAAAAAAA'\n",
    "read_B='CCCBABA'\n",
    "# read_A='AAAAAAAACCVAAAAAAAAAAA'\n",
    "# read_B='CCVA'\n",
    "overlap(read_A,read_B)    \n",
    "        \n",
    "        \n",
    "        "
   ]
  },
  {
   "cell_type": "code",
   "execution_count": 5,
   "metadata": {},
   "outputs": [],
   "source": [
    "def combine_with_coverage(read,reads):   \n",
    "\tN=len(reads)\n",
    "\tmax_cov=0\n",
    "\tbest_seq=0\n",
    "\ti_best=0\n",
    "\tfor i in range(1,N):\n",
    "\t\tseq,cov=overlap(read,reads[i])\n",
    "\t\tif cov>max_cov:\n",
    "\t\t\tmax_cov=cov\n",
    "\t\t\tbest_seq=seq\n",
    "\t\t\ti_best=i\n",
    "\treturn(best_seq,i_best)\n"
   ]
  },
  {
   "cell_type": "markdown",
   "metadata": {},
   "source": [
    "Then we create an algorithm to combine the sequences:\n",
    "> At each iteration we take the fist read and combine it with the more revelant other read of *reads* thanks to *combine_with_coverage*. Then in *reads* we remplace the current read with the combinasion and remove the second one in *reads*.\n",
    "> we perform a circular translation of *reads* at each iteration this allow better algorithmic performances. (Avoid to always compare the biggest read to small read an rather increase the size of small reads and reduce the number of elements in list *reads*) "
   ]
  },
  {
   "cell_type": "code",
   "execution_count": 6,
   "metadata": {},
   "outputs": [],
   "source": [
    "reads=create_reads(read_length,read_sigma,fold_coverage)\n",
    "\n",
    "reads_copy=reads\n",
    "N=len(reads_copy)\n",
    "i=0\n",
    "count_flag=0\n",
    "while len(reads_copy)>1 and i<=N:\n",
    "\ti+=1\n",
    "\tread=reads_copy[0]\n",
    "\tbest_seq,i_best=combine_with_coverage(read,reads_copy)\n",
    "\t# if i_best==0:\n",
    "\t# \t# print(\"Oups\")\n",
    "\t# \t# break\n",
    "\t# \ti-=1\n",
    "\tif i_best!=0: #If a read overlap the current read: we remplace read by the combinaision and remove the cobined one\n",
    "\t\tcount_flag=0\n",
    "\t\treads_copy.pop(i_best)\n",
    "\t\treads_copy[0]=best_seq\n",
    "\telse: # Else, this iteration didn't redure *reads* size \n",
    "\t\ti=i-1\n",
    "\t\tcount_flag+=1\n",
    "\t\tif count_flag>len(reads_copy):\n",
    "\t\t\tbreak\n",
    "\tif len(read)==0: # If the current object is empty (no overlap) the empty list is deleted, and we redo the iteration\n",
    "\t\treads_copy.pop(0)\n",
    "\telse: # We perform a circular translation for better performences\n",
    "\t\treads_copy=reads_copy[1:]+[reads_copy[0]]\n",
    "\tif i%100==0: #Counter to indicate algo progress\n",
    "\t\tprint(int(i/N*100),\"% \",len(reads_copy),\"/\",N)\n",
    "\n",
    "# print(i_best)\n"
   ]
  },
  {
   "cell_type": "markdown",
   "metadata": {},
   "source": [
    "**Finnally** we optain a single read in *reads* with is the de novo assembly, comparing this assembly with the reference shows a 100% reconstitution in less then 2 minutes."
   ]
  },
  {
   "cell_type": "code",
   "execution_count": 7,
   "metadata": {},
   "outputs": [
    {
     "data": {
      "text/plain": [
       "1"
      ]
     },
     "execution_count": 7,
     "metadata": {},
     "output_type": "execute_result"
    }
   ],
   "source": [
    "len(reads_copy)"
   ]
  },
  {
   "cell_type": "code",
   "execution_count": 8,
   "metadata": {},
   "outputs": [
    {
     "name": "stdout",
     "output_type": "stream",
     "text": [
      "1000 / 1000\n"
     ]
    }
   ],
   "source": [
    "for i in range(len(reads_copy)):\n",
    "\tprint(len(reads_copy[i]),\"/\",len(full_sequence))"
   ]
  },
  {
   "cell_type": "code",
   "execution_count": 9,
   "metadata": {},
   "outputs": [
    {
     "data": {
      "text/plain": [
       "1000"
      ]
     },
     "execution_count": 9,
     "metadata": {},
     "output_type": "execute_result"
    }
   ],
   "source": [
    "len(full_sequence)\n"
   ]
  },
  {
   "cell_type": "code",
   "execution_count": 11,
   "metadata": {},
   "outputs": [
    {
     "data": {
      "text/plain": [
       "True"
      ]
     },
     "execution_count": 11,
     "metadata": {},
     "output_type": "execute_result"
    }
   ],
   "source": [
    "full_sequence==reads_copy[0]"
   ]
  }
 ],
 "metadata": {
  "interpreter": {
   "hash": "63fd5069d213b44bf678585dea6b12cceca9941eaf7f819626cde1f2670de90d"
  },
  "kernelspec": {
   "display_name": "Python 3.9.7 64-bit (system)",
   "language": "python",
   "name": "python3"
  },
  "language_info": {
   "codemirror_mode": {
    "name": "ipython",
    "version": 3
   },
   "file_extension": ".py",
   "mimetype": "text/x-python",
   "name": "python",
   "nbconvert_exporter": "python",
   "pygments_lexer": "ipython3",
   "version": "3.9.10"
  },
  "orig_nbformat": 4
 },
 "nbformat": 4,
 "nbformat_minor": 2
}
